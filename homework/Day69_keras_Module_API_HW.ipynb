{
  "nbformat": 4,
  "nbformat_minor": 0,
  "metadata": {
    "kernelspec": {
      "display_name": "Python 3",
      "language": "python",
      "name": "python3"
    },
    "language_info": {
      "codemirror_mode": {
        "name": "ipython",
        "version": 3
      },
      "file_extension": ".py",
      "mimetype": "text/x-python",
      "name": "python",
      "nbconvert_exporter": "python",
      "pygments_lexer": "ipython3",
      "version": "3.7.0"
    },
    "colab": {
      "name": "Day69-keras_Module_API_HW.ipynb",
      "provenance": [],
      "include_colab_link": true
    }
  },
  "cells": [
    {
      "cell_type": "markdown",
      "metadata": {
        "id": "view-in-github",
        "colab_type": "text"
      },
      "source": [
        "<a href=\"https://colab.research.google.com/github/linhungwei/2nd-ML100Days/blob/master/homework/Day69_keras_Module_API_HW.ipynb\" target=\"_parent\"><img src=\"https://colab.research.google.com/assets/colab-badge.svg\" alt=\"Open In Colab\"/></a>"
      ]
    },
    {
      "cell_type": "markdown",
      "metadata": {
        "id": "6HvrxJTSNyQz",
        "colab_type": "text"
      },
      "source": [
        "# 作業目標:\n",
        "    \n",
        "    建立一個網路模型"
      ]
    },
    {
      "cell_type": "markdown",
      "metadata": {
        "id": "qMEtZC2yNyQ6",
        "colab_type": "text"
      },
      "source": [
        "# 作業重點:\n",
        "\n",
        "請修改 Name 中, 自定義的 Layer 名稱\n",
        "\n",
        "增加一層全連階層\n",
        "\n",
        "宣告 MODEL API, 分別採用自行定義的 Input/Output Layer\n",
        "\n",
        "model.summary 查看 Layers stack"
      ]
    },
    {
      "cell_type": "code",
      "metadata": {
        "id": "FCIDzAHlNyQ-",
        "colab_type": "code",
        "outputId": "fe79053b-c606-41b9-a3a3-53116ffdf3ba",
        "colab": {
          "base_uri": "https://localhost:8080/",
          "height": 213
        }
      },
      "source": [
        "from keras.layers import Input, Embedding, LSTM, Dense\n",
        "from keras.models import Model\n",
        "\n",
        "#主要輸入接收新聞標題本身，即一個整數序列（每個整數編碼一個詞）。\n",
        "#這些整數在1 到10,000 之間（10,000 個詞的詞彙表），且序列長度為100 個詞\n",
        "#宣告一個 NAME 去定義Input\n",
        "main_input = Input(shape=(100,), dtype='int32', name='main_input')\n",
        "\n",
        "\n",
        "# Embedding 層將輸入序列編碼為一個稠密向量的序列，\n",
        "# 每個向量維度為 512。\n",
        "x = Embedding(output_dim=512, input_dim=10000, input_length=100)(main_input)\n",
        "\n",
        "# LSTM 層把向量序列轉換成單個向量，\n",
        "# 它包含整個序列的上下文信息\n",
        "lstm_out = LSTM(32)(x)"
      ],
      "execution_count": 0,
      "outputs": [
        {
          "output_type": "stream",
          "text": [
            "Using TensorFlow backend.\n"
          ],
          "name": "stderr"
        },
        {
          "output_type": "display_data",
          "data": {
            "text/html": [
              "<p style=\"color: red;\">\n",
              "The default version of TensorFlow in Colab will soon switch to TensorFlow 2.x.<br>\n",
              "We recommend you <a href=\"https://www.tensorflow.org/guide/migrate\" target=\"_blank\">upgrade</a> now \n",
              "or ensure your notebook will continue to use TensorFlow 1.x via the <code>%tensorflow_version 1.x</code> magic:\n",
              "<a href=\"https://colab.research.google.com/notebooks/tensorflow_version.ipynb\" target=\"_blank\">more info</a>.</p>\n"
            ],
            "text/plain": [
              "<IPython.core.display.HTML object>"
            ]
          },
          "metadata": {
            "tags": []
          }
        },
        {
          "output_type": "stream",
          "text": [
            "WARNING:tensorflow:From /usr/local/lib/python3.6/dist-packages/keras/backend/tensorflow_backend.py:541: The name tf.placeholder is deprecated. Please use tf.compat.v1.placeholder instead.\n",
            "\n",
            "WARNING:tensorflow:From /usr/local/lib/python3.6/dist-packages/keras/backend/tensorflow_backend.py:66: The name tf.get_default_graph is deprecated. Please use tf.compat.v1.get_default_graph instead.\n",
            "\n",
            "WARNING:tensorflow:From /usr/local/lib/python3.6/dist-packages/keras/backend/tensorflow_backend.py:4432: The name tf.random_uniform is deprecated. Please use tf.random.uniform instead.\n",
            "\n"
          ],
          "name": "stdout"
        }
      ]
    },
    {
      "cell_type": "code",
      "metadata": {
        "id": "hvFcR-W9NyRO",
        "colab_type": "code",
        "colab": {}
      },
      "source": [
        "#插入輔助損失，使得即使在模型主損失很高的情況下，LSTM 層和Embedding 層都能被平穩地訓練\n",
        "news_output = Dense(1, activation='sigmoid', name='news_out')(lstm_out)"
      ],
      "execution_count": 0,
      "outputs": []
    },
    {
      "cell_type": "code",
      "metadata": {
        "id": "ttfxXpOoNyRW",
        "colab_type": "code",
        "colab": {}
      },
      "source": [
        "#輔助輸入數據與LSTM 層的輸出連接起來，輸入到模型\n",
        "import keras\n",
        "news_input = Input(shape=(5,), name='news_in')\n",
        "x = keras.layers.concatenate([lstm_out, news_input])\n",
        "\n",
        "\n",
        "# 堆疊多個全連接網路層\n",
        "x = Dense(64, activation='relu')(x)\n",
        "x = Dense(64, activation='relu')(x)\n",
        "#作業解答: 新增兩層\n",
        "x = Dense(64, activation='relu')(x)\n",
        "x = Dense(64, activation='relu')(x)\n",
        "x = Dense(64, activation='relu')(x)\n",
        "\n",
        "# 最後添加主要的邏輯回歸層\n",
        "main_output = Dense(1, activation='sigmoid', name='main_output')(x)"
      ],
      "execution_count": 0,
      "outputs": []
    },
    {
      "cell_type": "code",
      "metadata": {
        "id": "Y-tfq9x3PSXp",
        "colab_type": "code",
        "colab": {}
      },
      "source": [
        "# 宣告 MODEL API, 分別採用自行定義的 Input/Output Layer\n",
        "model = Model(inputs=[main_input, news_input], outputs=[main_output, news_output])"
      ],
      "execution_count": 0,
      "outputs": []
    },
    {
      "cell_type": "code",
      "metadata": {
        "id": "tTHqUVuOPVAE",
        "colab_type": "code",
        "outputId": "4dacafbe-4363-4c92-a219-55d9569a8f42",
        "colab": {
          "base_uri": "https://localhost:8080/",
          "height": 129
        }
      },
      "source": [
        "model.compile(optimizer='rmsprop',\n",
        "              loss={'main_output': 'binary_crossentropy', 'news_out': 'binary_crossentropy'},\n",
        "              loss_weights={'main_output': 1., 'news_out': 0.2})"
      ],
      "execution_count": 0,
      "outputs": [
        {
          "output_type": "stream",
          "text": [
            "WARNING:tensorflow:From /usr/local/lib/python3.6/dist-packages/keras/backend/tensorflow_backend.py:3657: The name tf.log is deprecated. Please use tf.math.log instead.\n",
            "\n",
            "WARNING:tensorflow:From /usr/local/lib/python3.6/dist-packages/tensorflow_core/python/ops/nn_impl.py:183: where (from tensorflow.python.ops.array_ops) is deprecated and will be removed in a future version.\n",
            "Instructions for updating:\n",
            "Use tf.where in 2.0, which has the same broadcast rule as np.where\n"
          ],
          "name": "stdout"
        }
      ]
    },
    {
      "cell_type": "code",
      "metadata": {
        "id": "z7Sb-X1sPWeh",
        "colab_type": "code",
        "outputId": "a5eb3130-5ebc-4cec-f0fe-b82b04d835d9",
        "colab": {
          "base_uri": "https://localhost:8080/",
          "height": 623
        }
      },
      "source": [
        "model.summary()"
      ],
      "execution_count": 0,
      "outputs": [
        {
          "output_type": "stream",
          "text": [
            "Model: \"model_1\"\n",
            "__________________________________________________________________________________________________\n",
            "Layer (type)                    Output Shape         Param #     Connected to                     \n",
            "==================================================================================================\n",
            "main_input (InputLayer)         (None, 100)          0                                            \n",
            "__________________________________________________________________________________________________\n",
            "embedding_1 (Embedding)         (None, 100, 512)     5120000     main_input[0][0]                 \n",
            "__________________________________________________________________________________________________\n",
            "lstm_1 (LSTM)                   (None, 32)           69760       embedding_1[0][0]                \n",
            "__________________________________________________________________________________________________\n",
            "news_in (InputLayer)            (None, 5)            0                                            \n",
            "__________________________________________________________________________________________________\n",
            "concatenate_3 (Concatenate)     (None, 37)           0           lstm_1[0][0]                     \n",
            "                                                                 news_in[0][0]                    \n",
            "__________________________________________________________________________________________________\n",
            "dense_10 (Dense)                (None, 64)           2432        concatenate_3[0][0]              \n",
            "__________________________________________________________________________________________________\n",
            "dense_11 (Dense)                (None, 64)           4160        dense_10[0][0]                   \n",
            "__________________________________________________________________________________________________\n",
            "dense_12 (Dense)                (None, 64)           4160        dense_11[0][0]                   \n",
            "__________________________________________________________________________________________________\n",
            "dense_13 (Dense)                (None, 64)           4160        dense_12[0][0]                   \n",
            "__________________________________________________________________________________________________\n",
            "dense_14 (Dense)                (None, 64)           4160        dense_13[0][0]                   \n",
            "__________________________________________________________________________________________________\n",
            "main_output (Dense)             (None, 1)            65          dense_14[0][0]                   \n",
            "__________________________________________________________________________________________________\n",
            "news_out (Dense)                (None, 1)            33          lstm_1[0][0]                     \n",
            "==================================================================================================\n",
            "Total params: 5,208,930\n",
            "Trainable params: 5,208,930\n",
            "Non-trainable params: 0\n",
            "__________________________________________________________________________________________________\n"
          ],
          "name": "stdout"
        }
      ]
    }
  ]
}