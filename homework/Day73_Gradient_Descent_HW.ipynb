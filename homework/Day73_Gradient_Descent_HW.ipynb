{
  "nbformat": 4,
  "nbformat_minor": 0,
  "metadata": {
    "kernelspec": {
      "display_name": "Python 3",
      "language": "python",
      "name": "python3"
    },
    "language_info": {
      "codemirror_mode": {
        "name": "ipython",
        "version": 3
      },
      "file_extension": ".py",
      "mimetype": "text/x-python",
      "name": "python",
      "nbconvert_exporter": "python",
      "pygments_lexer": "ipython3",
      "version": "3.7.0"
    },
    "colab": {
      "name": "Day73_Gradient_Descent_HW.ipynb",
      "provenance": [],
      "include_colab_link": true
    }
  },
  "cells": [
    {
      "cell_type": "markdown",
      "metadata": {
        "id": "view-in-github",
        "colab_type": "text"
      },
      "source": [
        "<a href=\"https://colab.research.google.com/github/linhungwei/2nd-ML100Days/blob/master/homework/Day73_Gradient_Descent_HW.ipynb\" target=\"_parent\"><img src=\"https://colab.research.google.com/assets/colab-badge.svg\" alt=\"Open In Colab\"/></a>"
      ]
    },
    {
      "cell_type": "markdown",
      "metadata": {
        "id": "uso5A84BOrT3",
        "colab_type": "text"
      },
      "source": [
        "# 作業重點\n",
        "\n",
        "使用function y=(x+5)² 來練習學習率( leanrning rate ) 調整所造成的影響"
      ]
    },
    {
      "cell_type": "markdown",
      "metadata": {
        "id": "MAeZVoYfOrT-",
        "colab_type": "text"
      },
      "source": [
        "# 作業目標:\n",
        "    請嘗試使用不同的組合驗證 learning rate 對所需 iteration 的影響\n",
        "    lr = [0.1, 0.0001]\n",
        "    主要驗證 Lr 對於grandient 收斂的速度\n",
        "    "
      ]
    },
    {
      "cell_type": "code",
      "metadata": {
        "id": "zHV4pGRDOrUE",
        "colab_type": "code",
        "colab": {}
      },
      "source": [
        "cur_x = 3 # The algorithm starts at x=3\n",
        "precision = 0.000001 #This tells us when to stop the algorithm\n",
        "max_iters = 10000 # maximum number of iterations\n",
        "df = lambda x: 2*(x+5) #Gradient of our function "
      ],
      "execution_count": 0,
      "outputs": []
    },
    {
      "cell_type": "code",
      "metadata": {
        "scrolled": false,
        "id": "zxZ9M7sfOrUe",
        "colab_type": "code",
        "colab": {},
        "outputId": "ee9e2af7-9a3d-46f3-80f6-66d05a7ef0be"
      },
      "source": [
        "'''\n",
        "需要執行初始值設定, 下列三個\n",
        "# Learning rate\n",
        "#iteration counter\n",
        "#Step size  \n",
        "'''\n",
        "'''\n",
        "while previous_step_size > precision and iters < max_iters:\n",
        "\n",
        "  算法迭代更新\n",
        "\n",
        "print(\"the learning rate is\",lr, \"\\nIteration\",iters,\"\\nX value is\",cur_x) #Print iterations\n",
        "'''"
      ],
      "execution_count": 0,
      "outputs": [
        {
          "output_type": "execute_result",
          "data": {
            "text/plain": [
              "'\\nwhile previous_step_size > precision and iters < max_iters:\\n\\n  算法迭代更新\\n\\nprint(\"the learning rate is\",lr, \"\\nIteration\",iters,\"\\nX value is\",cur_x) #Print iterations\\n'"
            ]
          },
          "metadata": {
            "tags": []
          },
          "execution_count": 7
        }
      ]
    },
    {
      "cell_type": "code",
      "metadata": {
        "id": "2-ZXyA4oOrUr",
        "colab_type": "code",
        "colab": {}
      },
      "source": [
        ""
      ],
      "execution_count": 0,
      "outputs": []
    }
  ]
}