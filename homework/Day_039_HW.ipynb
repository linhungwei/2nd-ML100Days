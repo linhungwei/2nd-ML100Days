{
 "cells": [
  {
   "cell_type": "markdown",
   "metadata": {},
   "source": [
    "## [作業重點]\n",
    "清楚了解 L1, L2 的意義與差異為何，並了解 LASSO 與 Ridge 之間的差異與使用情境"
   ]
  },
  {
   "cell_type": "markdown",
   "metadata": {},
   "source": [
    "## 作業"
   ]
  },
  {
   "cell_type": "markdown",
   "metadata": {},
   "source": [
    "請閱讀相關文獻，並回答下列問題\n",
    "\n",
    "[脊回歸 (Ridge Regression)](https://blog.csdn.net/daunxx/article/details/51578787)\n",
    "[Linear, Ridge, Lasso Regression 本質區別](https://www.zhihu.com/question/38121173)\n",
    "\n",
    "1. LASSO 回歸可以被用來作為 Feature selection 的工具，請了解 LASSO 模型為什麼可用來作 Feature selection\n",
    "2. 當自變數 (X) 存在高度共線性時，Ridge Regression 可以處理這樣的問題嗎?\n"
   ]
  },
  {
   "cell_type": "code",
   "execution_count": null,
   "metadata": {},
   "outputs": [],
   "source": [
    "1.\n",
    "Ridge Regression的提出就是为了解决multicolinearity的，加一个L2 penalty term也是因为算起来方便。\n",
    "然而它并不能shrink parameters to 0.所以没法做variable selection。\n",
    "LASSO是针对Ridge Regression的没法做variable selection的问题提出来的，\n",
    "L1 penalty虽然算起来麻烦，没有解析解，但是可以把某些系数shrink到0啊。\n",
    "然而LASSO虽然可以做variable selection，但是不consistent啊，\n",
    "而且当n很小时至多只能选出n个变量；而且不能做group selection。\n",
    "\n",
    "于是有了在L1和L2 penalty之间做个权重就是elastic net, 针对不consistent有了adaptive lasso，\n",
    "针对不能做group selection有了group lasso, 在graphical models里有了graphical lasso。\n",
    "然后有人说unbiasedness, sparsity and continuity这三条都满足多好，于是有了MCP和SCAD同时满足这三条性质\n",
    "。penalized regression太多了，上面提到的都是比较popular的方法了。\n",
    "。\n",
    "\n",
    "大意就是lasso在优化过程的目标函数中使用如下的L1 penalty：\n",
    "\n",
    "从而把一些线性回归项的系数“逼成”零；ridge是用L2 penalty，\n",
    "旨在把系数变得小一些，但非完全成零。两者原理上的区别可由下图表示：\n",
    "不难看出由于L1 penalty规定的范围“四四方方、有棱有角”，所以最优解的系数会被刚好缩成零\n",
    "，因此lasso可以实现对变量的选择（系数为零的变量就被筛掉了）\n",
    "\n",
    "\n",
    "2. 当设计矩阵存在多重共线性的时候（数学上称为病态矩阵），最小二乘法求得的参数在数值上会非常的大，而一般的线性回归其模型是 ，显然，就是因\n",
    "为在数值上非常的大，所以，如果输入变量有一个微小的变动，其反应在输出结果上也会变得非常大，这就是对输入变量总的噪声非常敏感的原因。\n",
    "如果能限制参数的增长，使不会变得特别大，那么模型对输入中噪声的敏感度就会降低。这就是脊回归和套索回归（Ridge Regression and Lasso Regrission）\n",
    "的基本思想。"
   ]
  }
 ],
 "metadata": {
  "kernelspec": {
   "display_name": "Python 3",
   "language": "python",
   "name": "python3"
  },
  "language_info": {
   "codemirror_mode": {
    "name": "ipython",
    "version": 3
   },
   "file_extension": ".py",
   "mimetype": "text/x-python",
   "name": "python",
   "nbconvert_exporter": "python",
   "pygments_lexer": "ipython3",
   "version": "3.7.3"
  }
 },
 "nbformat": 4,
 "nbformat_minor": 2
}
